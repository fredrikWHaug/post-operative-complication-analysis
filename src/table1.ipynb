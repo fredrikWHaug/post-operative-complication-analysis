{
 "cells": [
  {
   "cell_type": "code",
   "execution_count": 1,
   "metadata": {},
   "outputs": [
    {
     "name": "stdout",
     "output_type": "stream",
     "text": [
      "Requirement already satisfied: TableOne in c:\\miniconda\\envs\\py38_default\\lib\\site-packages (0.7.12)\n",
      "Requirement already satisfied: scipy>=1.7.0 in c:\\miniconda\\envs\\py38_default\\lib\\site-packages (from TableOne) (1.10.1)\n",
      "Requirement already satisfied: numpy>=1.19.1 in c:\\miniconda\\envs\\py38_default\\lib\\site-packages (from TableOne) (1.20.3)\n",
      "Requirement already satisfied: statsmodels>=0.12.1 in c:\\miniconda\\envs\\py38_default\\lib\\site-packages (from TableOne) (0.14.1)\n",
      "Requirement already satisfied: tabulate>=0.8.10 in c:\\miniconda\\envs\\py38_default\\lib\\site-packages (from TableOne) (0.9.0)\n",
      "Requirement already satisfied: pandas>=1.2.1 in c:\\miniconda\\envs\\py38_default\\lib\\site-packages (from TableOne) (2.0.3)\n",
      "Requirement already satisfied: patsy>=0.5.4 in c:\\miniconda\\envs\\py38_default\\lib\\site-packages (from statsmodels>=0.12.1->TableOne) (0.5.6)\n",
      "Requirement already satisfied: packaging>=21.3 in c:\\miniconda\\envs\\py38_default\\lib\\site-packages (from statsmodels>=0.12.1->TableOne) (23.2)\n",
      "Requirement already satisfied: pytz>=2020.1 in c:\\miniconda\\envs\\py38_default\\lib\\site-packages (from pandas>=1.2.1->TableOne) (2020.1)\n",
      "Requirement already satisfied: tzdata>=2022.1 in c:\\miniconda\\envs\\py38_default\\lib\\site-packages (from pandas>=1.2.1->TableOne) (2023.4)\n",
      "Requirement already satisfied: python-dateutil>=2.8.2 in c:\\miniconda\\envs\\py38_default\\lib\\site-packages (from pandas>=1.2.1->TableOne) (2.8.2)\n",
      "Requirement already satisfied: six in c:\\miniconda\\envs\\py38_default\\lib\\site-packages (from patsy>=0.5.4->statsmodels>=0.12.1->TableOne) (1.15.0)\n"
     ]
    }
   ],
   "source": [
    "!pip install TableOne"
   ]
  },
  {
   "cell_type": "code",
   "execution_count": 2,
   "metadata": {},
   "outputs": [
    {
     "name": "stdout",
     "output_type": "stream",
     "text": [
      "Requirement already satisfied: numpy==1.20.3 in c:\\miniconda\\envs\\py38_default\\lib\\site-packages (1.20.3)\n"
     ]
    }
   ],
   "source": [
    "!pip install numpy==1.20.3"
   ]
  },
  {
   "cell_type": "code",
   "execution_count": 3,
   "metadata": {},
   "outputs": [],
   "source": [
    "import pandas as pd\n",
    "from tableone import TableOne"
   ]
  },
  {
   "cell_type": "code",
   "execution_count": 4,
   "metadata": {},
   "outputs": [
    {
     "name": "stderr",
     "output_type": "stream",
     "text": [
      "c:\\Miniconda\\envs\\py38_default\\lib\\site-packages\\ipykernel\\ipkernel.py:287: DeprecationWarning: `should_run_async` will not call `transform_cell` automatically in the future. Please pass the result to `transformed_cell` argument and any exception that happen during thetransform in `preprocessing_exc_tuple` in IPython 7.17 and above.\n",
      "  and should_run_async(code)\n"
     ]
    },
    {
     "data": {
      "text/plain": [
       "['.ipynb_checkpoints',\n",
       " 'bkp_table1.ipynb',\n",
       " 'desktop.ini',\n",
       " 'My Music',\n",
       " 'My Pictures',\n",
       " 'My Videos',\n",
       " 'post_op_synthetic.csv',\n",
       " 'table1.ipynb',\n",
       " 'table1_by_Kjonn.html',\n",
       " 'table1_by_sex.html']"
      ]
     },
     "execution_count": 4,
     "metadata": {},
     "output_type": "execute_result"
    }
   ],
   "source": [
    "import os\n",
    "os.listdir()"
   ]
  },
  {
   "cell_type": "code",
   "execution_count": 5,
   "metadata": {},
   "outputs": [
    {
     "name": "stderr",
     "output_type": "stream",
     "text": [
      "c:\\Miniconda\\envs\\py38_default\\lib\\site-packages\\ipykernel\\ipkernel.py:287: DeprecationWarning: `should_run_async` will not call `transform_cell` automatically in the future. Please pass the result to `transformed_cell` argument and any exception that happen during thetransform in `preprocessing_exc_tuple` in IPython 7.17 and above.\n",
      "  and should_run_async(code)\n"
     ]
    },
    {
     "data": {
      "text/plain": [
       "(10000, 50)"
      ]
     },
     "execution_count": 5,
     "metadata": {},
     "output_type": "execute_result"
    }
   ],
   "source": [
    "df = pd.read_csv('post_op_synthetic.csv', delimiter=';')\n",
    "df.shape"
   ]
  },
  {
   "cell_type": "code",
   "execution_count": 6,
   "metadata": {},
   "outputs": [
    {
     "name": "stderr",
     "output_type": "stream",
     "text": [
      "c:\\Miniconda\\envs\\py38_default\\lib\\site-packages\\ipykernel\\ipkernel.py:287: DeprecationWarning: `should_run_async` will not call `transform_cell` automatically in the future. Please pass the result to `transformed_cell` argument and any exception that happen during thetransform in `preprocessing_exc_tuple` in IPython 7.17 and above.\n",
      "  and should_run_async(code)\n"
     ]
    },
    {
     "data": {
      "text/plain": [
       "Index(['AkuttHel', 'AkuttDag', 'AkuttPK', 'ElHel', 'ElDag', 'ElPK', 'LoS',\n",
       "       'DtOp', 'innmateHast', 'ICD10kap', 'Kjonn', 'Alder',\n",
       "       'Operasjonsavdeling', 'ASA_previsitt', 'Smitte', 'Ukedag',\n",
       "       'Ventetid_dager', 'HastegradGrp', 'Opkategori', 'Postop',\n",
       "       'PlanlagtKnivtid', 'StuetidStart', 'AnestesiStart', 'KlartForOperasjon',\n",
       "       'KnivtidStart', 'KnivtidSlutt', 'StuetidSlutt',\n",
       "       'TryggKirurgi_Forberedelsessjekk', 'TryggKirurgi_Timeout',\n",
       "       'TryggKirurgi_Avslutnsjekk', 'Postop_Intensiv', 'Postop_Actilyse',\n",
       "       'Postop_Traume', 'BMI_gruppe', 'HarMemo', 'ASA', 'HarAntibiotika',\n",
       "       'Alvorlighet', 'Varighet', 'LavestSystBT', 'LavestSystBT_NI',\n",
       "       'HøyestSystBT', 'HøyestSystBT_NI', 'TempTatt', 'Intubert',\n",
       "       'ProblemkodeGrp', 'HovedInngrepGrp', 'Undergruppe_operasjonskorGrp',\n",
       "       'AnestesiGrp', 'Target'],\n",
       "      dtype='object')"
      ]
     },
     "execution_count": 6,
     "metadata": {},
     "output_type": "execute_result"
    }
   ],
   "source": [
    "df.columns"
   ]
  },
  {
   "cell_type": "code",
   "execution_count": 7,
   "metadata": {},
   "outputs": [
    {
     "name": "stderr",
     "output_type": "stream",
     "text": [
      "c:\\Miniconda\\envs\\py38_default\\lib\\site-packages\\ipykernel\\ipkernel.py:287: DeprecationWarning: `should_run_async` will not call `transform_cell` automatically in the future. Please pass the result to `transformed_cell` argument and any exception that happen during thetransform in `preprocessing_exc_tuple` in IPython 7.17 and above.\n",
      "  and should_run_async(code)\n"
     ]
    }
   ],
   "source": [
    "# Mapping ICD10 \n",
    "icd10_dict = {\n",
    "    'A': 'InfectParasitic',\n",
    "    'C': 'Neoplasms',\n",
    "    'D': 'BloodImmuno',\n",
    "    'E': 'EndoNutriMetabol',\n",
    "    'G': 'Nervous',\n",
    "    'I': 'Circulatory',\n",
    "    'J': 'Respiratory',\n",
    "    'K': 'Digestive',\n",
    "    'L': 'Skin',\n",
    "    'M': 'MusculoConn',\n",
    "    'N': 'Genitourinary',\n",
    "    'R': 'SymptomsSigns',\n",
    "    'S': 'InjurPoisonings',\n",
    "    'T': 'ExternalCauses',\n",
    "    'Z': 'HealthcareContact',\n",
    "}"
   ]
  },
  {
   "cell_type": "code",
   "execution_count": 8,
   "metadata": {},
   "outputs": [
    {
     "name": "stderr",
     "output_type": "stream",
     "text": [
      "c:\\Miniconda\\envs\\py38_default\\lib\\site-packages\\ipykernel\\ipkernel.py:287: DeprecationWarning: `should_run_async` will not call `transform_cell` automatically in the future. Please pass the result to `transformed_cell` argument and any exception that happen during thetransform in `preprocessing_exc_tuple` in IPython 7.17 and above.\n",
      "  and should_run_async(code)\n"
     ]
    }
   ],
   "source": [
    "df['icd10_derived'] = df.ICD10kap.map(icd10_dict)"
   ]
  },
  {
   "cell_type": "code",
   "execution_count": 9,
   "metadata": {},
   "outputs": [
    {
     "name": "stderr",
     "output_type": "stream",
     "text": [
      "c:\\Miniconda\\envs\\py38_default\\lib\\site-packages\\ipykernel\\ipkernel.py:287: DeprecationWarning: `should_run_async` will not call `transform_cell` automatically in the future. Please pass the result to `transformed_cell` argument and any exception that happen during thetransform in `preprocessing_exc_tuple` in IPython 7.17 and above.\n",
      "  and should_run_async(code)\n"
     ]
    }
   ],
   "source": [
    "# list of columns to be included in Table 1\n",
    "columns_to_include = ['DtOp', 'icd10_derived', 'ASA_previsitt', 'Target', 'Opkategori', 'Kjonn', 'Alder','LoS','TempTatt', 'TryggKirurgi_Forberedelsessjekk', 'TryggKirurgi_Timeout', 'TryggKirurgi_Avslutnsjekk']"
   ]
  },
  {
   "cell_type": "code",
   "execution_count": 10,
   "metadata": {},
   "outputs": [
    {
     "name": "stderr",
     "output_type": "stream",
     "text": [
      "c:\\Miniconda\\envs\\py38_default\\lib\\site-packages\\ipykernel\\ipkernel.py:287: DeprecationWarning: `should_run_async` will not call `transform_cell` automatically in the future. Please pass the result to `transformed_cell` argument and any exception that happen during thetransform in `preprocessing_exc_tuple` in IPython 7.17 and above.\n",
      "  and should_run_async(code)\n"
     ]
    }
   ],
   "source": [
    "# list of columns containing categorical variables\n",
    "categorical = ['ASA_previsitt', 'icd10_derived', 'Target', 'TempTatt', 'TryggKirurgi_Forberedelsessjekk','TryggKirurgi_Timeout', 'TryggKirurgi_Avslutnsjekk', 'Kjonn']"
   ]
  },
  {
   "cell_type": "code",
   "execution_count": 11,
   "metadata": {},
   "outputs": [
    {
     "name": "stderr",
     "output_type": "stream",
     "text": [
      "c:\\Miniconda\\envs\\py38_default\\lib\\site-packages\\ipykernel\\ipkernel.py:287: DeprecationWarning: `should_run_async` will not call `transform_cell` automatically in the future. Please pass the result to `transformed_cell` argument and any exception that happen during thetransform in `preprocessing_exc_tuple` in IPython 7.17 and above.\n",
      "  and should_run_async(code)\n"
     ]
    }
   ],
   "source": [
    "# categorical variable for stratification\n",
    "groupby = ['Opkategori']"
   ]
  },
  {
   "cell_type": "code",
   "execution_count": 12,
   "metadata": {},
   "outputs": [
    {
     "name": "stderr",
     "output_type": "stream",
     "text": [
      "c:\\Miniconda\\envs\\py38_default\\lib\\site-packages\\ipykernel\\ipkernel.py:287: DeprecationWarning: `should_run_async` will not call `transform_cell` automatically in the future. Please pass the result to `transformed_cell` argument and any exception that happen during thetransform in `preprocessing_exc_tuple` in IPython 7.17 and above.\n",
      "  and should_run_async(code)\n"
     ]
    }
   ],
   "source": [
    "# list of non-normal variables\n",
    "nonnormal = ['DtOp', 'Alder', 'LoS']"
   ]
  },
  {
   "cell_type": "code",
   "execution_count": 13,
   "metadata": {},
   "outputs": [
    {
     "name": "stderr",
     "output_type": "stream",
     "text": [
      "c:\\Miniconda\\envs\\py38_default\\lib\\site-packages\\ipykernel\\ipkernel.py:287: DeprecationWarning: `should_run_async` will not call `transform_cell` automatically in the future. Please pass the result to `transformed_cell` argument and any exception that happen during thetransform in `preprocessing_exc_tuple` in IPython 7.17 and above.\n",
      "  and should_run_async(code)\n"
     ]
    }
   ],
   "source": [
    "# dictionary of alternative labels:\n",
    "labels={'Opkategori': 'Emergency or Planned operation', 'LoS': 'length of stay', 'Alder': 'age', 'Kjonn': 'gender', 'TryggKirurgi_Forberedelsessjekk' : 'Checklist prior to surgery completed',\n",
    "       'TryggKirurgi_Timeout':'Checklist during surgery completed', 'TryggKirurgi_Avslutnsjekk': 'Checklist after surgery completed'}"
   ]
  },
  {
   "cell_type": "code",
   "execution_count": 14,
   "metadata": {},
   "outputs": [
    {
     "name": "stderr",
     "output_type": "stream",
     "text": [
      "c:\\Miniconda\\envs\\py38_default\\lib\\site-packages\\ipykernel\\ipkernel.py:287: DeprecationWarning: `should_run_async` will not call `transform_cell` automatically in the future. Please pass the result to `transformed_cell` argument and any exception that happen during thetransform in `preprocessing_exc_tuple` in IPython 7.17 and above.\n",
      "  and should_run_async(code)\n"
     ]
    }
   ],
   "source": [
    "# Create an instance of TableOne with the input arguments\n",
    "mytable = TableOne(df, columns=columns_to_include, categorical=categorical, groupby=groupby, nonnormal=nonnormal, rename=labels, pval=False)"
   ]
  },
  {
   "cell_type": "code",
   "execution_count": 15,
   "metadata": {},
   "outputs": [
    {
     "name": "stdout",
     "output_type": "stream",
     "text": [
      "╒═════════════════════════════════════════════╤═══════════════════╤═══════════╤══════════════════╤══════════════════╤══════════════════╕\n",
      "│                                             │                   │ Missing   │ Overall          │ Elektiv          │ ØH               │\n",
      "╞═════════════════════════════════════════════╪═══════════════════╪═══════════╪══════════════════╪══════════════════╪══════════════════╡\n",
      "│ n                                           │                   │           │ 10000            │ 4613             │ 5387             │\n",
      "├─────────────────────────────────────────────┼───────────────────┼───────────┼──────────────────┼──────────────────┼──────────────────┤\n",
      "│ DtOp, median [Q1,Q3]                        │                   │ 0         │ 0.0 [0.0,0.0]    │ 0.0 [0.0,0.0]    │ 0.0 [0.0,1.0]    │\n",
      "├─────────────────────────────────────────────┼───────────────────┼───────────┼──────────────────┼──────────────────┼──────────────────┤\n",
      "│ icd10_derived, n (%)                        │ BloodImmuno       │ 0         │ 605 (6.0)        │ 497 (10.8)       │ 108 (2.0)        │\n",
      "├─────────────────────────────────────────────┼───────────────────┼───────────┼──────────────────┼──────────────────┼──────────────────┤\n",
      "│                                             │ Circulatory       │           │ 5 (0.1)          │ 2 (0.0)          │ 3 (0.1)          │\n",
      "├─────────────────────────────────────────────┼───────────────────┼───────────┼──────────────────┼──────────────────┼──────────────────┤\n",
      "│                                             │ Digestive         │           │ 414 (4.1)        │ 124 (2.7)        │ 290 (5.4)        │\n",
      "├─────────────────────────────────────────────┼───────────────────┼───────────┼──────────────────┼──────────────────┼──────────────────┤\n",
      "│                                             │ EndoNutriMetabol  │           │ 246 (2.5)        │ 220 (4.8)        │ 26 (0.5)         │\n",
      "├─────────────────────────────────────────────┼───────────────────┼───────────┼──────────────────┼──────────────────┼──────────────────┤\n",
      "│                                             │ ExternalCauses    │           │ 465 (4.7)        │ 203 (4.4)        │ 262 (4.9)        │\n",
      "├─────────────────────────────────────────────┼───────────────────┼───────────┼──────────────────┼──────────────────┼──────────────────┤\n",
      "│                                             │ Genitourinary     │           │ 529 (5.3)        │ 457 (9.9)        │ 72 (1.3)         │\n",
      "├─────────────────────────────────────────────┼───────────────────┼───────────┼──────────────────┼──────────────────┼──────────────────┤\n",
      "│                                             │ HealthcareContact │           │ 431 (4.3)        │ 254 (5.5)        │ 177 (3.3)        │\n",
      "├─────────────────────────────────────────────┼───────────────────┼───────────┼──────────────────┼──────────────────┼──────────────────┤\n",
      "│                                             │ InfectParasitic   │           │ 14 (0.1)         │ 9 (0.2)          │ 5 (0.1)          │\n",
      "├─────────────────────────────────────────────┼───────────────────┼───────────┼──────────────────┼──────────────────┼──────────────────┤\n",
      "│                                             │ InjurPoisonings   │           │ 3271 (32.7)      │ 139 (3.0)        │ 3132 (58.1)      │\n",
      "├─────────────────────────────────────────────┼───────────────────┼───────────┼──────────────────┼──────────────────┼──────────────────┤\n",
      "│                                             │ MusculoConn       │           │ 3242 (32.4)      │ 2332 (50.6)      │ 910 (16.9)       │\n",
      "├─────────────────────────────────────────────┼───────────────────┼───────────┼──────────────────┼──────────────────┼──────────────────┤\n",
      "│                                             │ Neoplasms         │           │ 218 (2.2)        │ 165 (3.6)        │ 53 (1.0)         │\n",
      "├─────────────────────────────────────────────┼───────────────────┼───────────┼──────────────────┼──────────────────┼──────────────────┤\n",
      "│                                             │ Nervous           │           │ 18 (0.2)         │ 18 (0.4)         │                  │\n",
      "├─────────────────────────────────────────────┼───────────────────┼───────────┼──────────────────┼──────────────────┼──────────────────┤\n",
      "│                                             │ Respiratory       │           │ 101 (1.0)        │ 29 (0.6)         │ 72 (1.3)         │\n",
      "├─────────────────────────────────────────────┼───────────────────┼───────────┼──────────────────┼──────────────────┼──────────────────┤\n",
      "│                                             │ Skin              │           │ 364 (3.6)        │ 161 (3.5)        │ 203 (3.8)        │\n",
      "├─────────────────────────────────────────────┼───────────────────┼───────────┼──────────────────┼──────────────────┼──────────────────┤\n",
      "│                                             │ SymptomsSigns     │           │ 77 (0.8)         │ 3 (0.1)          │ 74 (1.4)         │\n",
      "├─────────────────────────────────────────────┼───────────────────┼───────────┼──────────────────┼──────────────────┼──────────────────┤\n",
      "│ ASA_previsitt, n (%)                        │ ASA 1             │ 0         │ 47 (0.5)         │ 22 (0.5)         │ 25 (0.5)         │\n",
      "├─────────────────────────────────────────────┼───────────────────┼───────────┼──────────────────┼──────────────────┼──────────────────┤\n",
      "│                                             │ ASA 2             │           │ 2965 (29.6)      │ 1671 (36.2)      │ 1294 (24.0)      │\n",
      "├─────────────────────────────────────────────┼───────────────────┼───────────┼──────────────────┼──────────────────┼──────────────────┤\n",
      "│                                             │ ASA 3             │           │ 5652 (56.5)      │ 2431 (52.7)      │ 3221 (59.8)      │\n",
      "├─────────────────────────────────────────────┼───────────────────┼───────────┼──────────────────┼──────────────────┼──────────────────┤\n",
      "│                                             │ ASA 4             │           │ 943 (9.4)        │ 322 (7.0)        │ 621 (11.5)       │\n",
      "├─────────────────────────────────────────────┼───────────────────┼───────────┼──────────────────┼──────────────────┼──────────────────┤\n",
      "│                                             │ ASA 5             │           │ 22 (0.2)         │ 9 (0.2)          │ 13 (0.2)         │\n",
      "├─────────────────────────────────────────────┼───────────────────┼───────────┼──────────────────┼──────────────────┼──────────────────┤\n",
      "│                                             │ missing           │           │ 371 (3.7)        │ 158 (3.4)        │ 213 (4.0)        │\n",
      "├─────────────────────────────────────────────┼───────────────────┼───────────┼──────────────────┼──────────────────┼──────────────────┤\n",
      "│ Target, n (%)                               │ Ja                │ 0         │ 1840 (18.4)      │ 624 (13.5)       │ 1216 (22.6)      │\n",
      "├─────────────────────────────────────────────┼───────────────────┼───────────┼──────────────────┼──────────────────┼──────────────────┤\n",
      "│                                             │ Nei               │           │ 8160 (81.6)      │ 3989 (86.5)      │ 4171 (77.4)      │\n",
      "├─────────────────────────────────────────────┼───────────────────┼───────────┼──────────────────┼──────────────────┼──────────────────┤\n",
      "│ gender, n (%)                               │ K                 │ 0         │ 4742 (47.4)      │ 1888 (40.9)      │ 2854 (53.0)      │\n",
      "├─────────────────────────────────────────────┼───────────────────┼───────────┼──────────────────┼──────────────────┼──────────────────┤\n",
      "│                                             │ M                 │           │ 5258 (52.6)      │ 2725 (59.1)      │ 2533 (47.0)      │\n",
      "├─────────────────────────────────────────────┼───────────────────┼───────────┼──────────────────┼──────────────────┼──────────────────┤\n",
      "│ age, median [Q1,Q3]                         │                   │ 0         │ 74.0 [66.0,83.0] │ 71.0 [64.0,78.0] │ 78.0 [69.0,85.0] │\n",
      "├─────────────────────────────────────────────┼───────────────────┼───────────┼──────────────────┼──────────────────┼──────────────────┤\n",
      "│ length of stay, median [Q1,Q3]              │                   │ 0         │ 3.0 [2.0,7.0]    │ 2.0 [1.0,3.0]    │ 3.0 [2.0,9.0]    │\n",
      "├─────────────────────────────────────────────┼───────────────────┼───────────┼──────────────────┼──────────────────┼──────────────────┤\n",
      "│ TempTatt, n (%)                             │ Ja                │ 0         │ 39 (0.4)         │ 19 (0.4)         │ 20 (0.4)         │\n",
      "├─────────────────────────────────────────────┼───────────────────┼───────────┼──────────────────┼──────────────────┼──────────────────┤\n",
      "│                                             │ Nei               │           │ 8256 (82.6)      │ 3720 (80.6)      │ 4536 (84.2)      │\n",
      "├─────────────────────────────────────────────┼───────────────────┼───────────┼──────────────────┼──────────────────┼──────────────────┤\n",
      "│                                             │ missing           │           │ 1705 (17.1)      │ 874 (18.9)       │ 831 (15.4)       │\n",
      "├─────────────────────────────────────────────┼───────────────────┼───────────┼──────────────────┼──────────────────┼──────────────────┤\n",
      "│ Checklist prior to surgery completed, n (%) │ Ja                │ 0         │ 9943 (99.4)      │ 4583 (99.3)      │ 5360 (99.5)      │\n",
      "├─────────────────────────────────────────────┼───────────────────┼───────────┼──────────────────┼──────────────────┼──────────────────┤\n",
      "│                                             │ Nei               │           │ 40 (0.4)         │ 21 (0.5)         │ 19 (0.4)         │\n",
      "├─────────────────────────────────────────────┼───────────────────┼───────────┼──────────────────┼──────────────────┼──────────────────┤\n",
      "│                                             │ missing           │           │ 17 (0.2)         │ 9 (0.2)          │ 8 (0.1)          │\n",
      "├─────────────────────────────────────────────┼───────────────────┼───────────┼──────────────────┼──────────────────┼──────────────────┤\n",
      "│ Checklist during surgery completed, n (%)   │ Ja                │ 0         │ 9975 (99.8)      │ 4602 (99.8)      │ 5373 (99.7)      │\n",
      "├─────────────────────────────────────────────┼───────────────────┼───────────┼──────────────────┼──────────────────┼──────────────────┤\n",
      "│                                             │ Nei               │           │ 25 (0.2)         │ 11 (0.2)         │ 14 (0.3)         │\n",
      "├─────────────────────────────────────────────┼───────────────────┼───────────┼──────────────────┼──────────────────┼──────────────────┤\n",
      "│ Checklist after surgery completed, n (%)    │ Ja                │ 0         │ 9941 (99.4)      │ 4587 (99.4)      │ 5354 (99.4)      │\n",
      "├─────────────────────────────────────────────┼───────────────────┼───────────┼──────────────────┼──────────────────┼──────────────────┤\n",
      "│                                             │ Nei               │           │ 59 (0.6)         │ 26 (0.6)         │ 33 (0.6)         │\n",
      "╘═════════════════════════════════════════════╧═══════════════════╧═══════════╧══════════════════╧══════════════════╧══════════════════╛\n"
     ]
    },
    {
     "name": "stderr",
     "output_type": "stream",
     "text": [
      "c:\\Miniconda\\envs\\py38_default\\lib\\site-packages\\ipykernel\\ipkernel.py:287: DeprecationWarning: `should_run_async` will not call `transform_cell` automatically in the future. Please pass the result to `transformed_cell` argument and any exception that happen during thetransform in `preprocessing_exc_tuple` in IPython 7.17 and above.\n",
      "  and should_run_async(code)\n"
     ]
    }
   ],
   "source": [
    "# Display the table using the tabulate method. \n",
    "print(mytable.tabulate(tablefmt = \"fancy_grid\"))"
   ]
  },
  {
   "cell_type": "code",
   "execution_count": 16,
   "metadata": {},
   "outputs": [
    {
     "name": "stderr",
     "output_type": "stream",
     "text": [
      "c:\\Miniconda\\envs\\py38_default\\lib\\site-packages\\ipykernel\\ipkernel.py:287: DeprecationWarning: `should_run_async` will not call `transform_cell` automatically in the future. Please pass the result to `transformed_cell` argument and any exception that happen during thetransform in `preprocessing_exc_tuple` in IPython 7.17 and above.\n",
      "  and should_run_async(code)\n"
     ]
    }
   ],
   "source": [
    "mytable.to_html('table1_by_Kjonn.html')\n"
   ]
  }
 ],
 "metadata": {
  "kernelspec": {
   "display_name": "Python 3",
   "language": "python",
   "name": "python3"
  },
  "language_info": {
   "codemirror_mode": {
    "name": "ipython",
    "version": 3
   },
   "file_extension": ".py",
   "mimetype": "text/x-python",
   "name": "python",
   "nbconvert_exporter": "python",
   "pygments_lexer": "ipython3",
   "version": "3.8.5"
  }
 },
 "nbformat": 4,
 "nbformat_minor": 4
}
